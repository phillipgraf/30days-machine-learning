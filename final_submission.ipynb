{
 "cells": [
  {
   "cell_type": "code",
   "execution_count": 1,
   "id": "0953fee5",
   "metadata": {
    "_cell_guid": "b1076dfc-b9ad-4769-8c92-a6c4dae69d19",
    "_uuid": "8f2839f25d086af736a60e9eeb907d3b93b6e0e5",
    "execution": {
     "iopub.execute_input": "2021-08-30T10:26:03.804086Z",
     "iopub.status.busy": "2021-08-30T10:26:03.803297Z",
     "iopub.status.idle": "2021-08-30T10:26:04.852539Z",
     "shell.execute_reply": "2021-08-30T10:26:04.853038Z",
     "shell.execute_reply.started": "2021-08-28T16:35:30.560174Z"
    },
    "papermill": {
     "duration": 1.074718,
     "end_time": "2021-08-30T10:26:04.853311",
     "exception": false,
     "start_time": "2021-08-30T10:26:03.778593",
     "status": "completed"
    },
    "tags": []
   },
   "outputs": [
    {
     "name": "stdout",
     "output_type": "stream",
     "text": [
      "env: JOBLIB_TEMP_FOLDER=/tmp\n"
     ]
    }
   ],
   "source": [
    "import numpy as np\n",
    "import pandas as pd\n",
    "from sklearn.preprocessing import OneHotEncoder\n",
    "from sklearn.tree import DecisionTreeRegressor\n",
    "from sklearn.model_selection import train_test_split\n",
    "from sklearn.metrics import mean_absolute_error\n",
    "from sklearn.metrics import mean_squared_error\n",
    "from xgboost import XGBRegressor\n",
    "from sklearn.model_selection import RandomizedSearchCV\n",
    "import os\n",
    "%env JOBLIB_TEMP_FOLDER=/tmp"
   ]
  },
  {
   "cell_type": "code",
   "execution_count": 2,
   "id": "caea49de",
   "metadata": {
    "execution": {
     "iopub.execute_input": "2021-08-30T10:26:04.878822Z",
     "iopub.status.busy": "2021-08-30T10:26:04.877916Z",
     "iopub.status.idle": "2021-08-30T10:26:04.880506Z",
     "shell.execute_reply": "2021-08-30T10:26:04.880925Z",
     "shell.execute_reply.started": "2021-08-28T16:35:31.957354Z"
    },
    "papermill": {
     "duration": 0.01791,
     "end_time": "2021-08-30T10:26:04.881079",
     "exception": false,
     "start_time": "2021-08-30T10:26:04.863169",
     "status": "completed"
    },
    "tags": []
   },
   "outputs": [],
   "source": [
    "def getFiles():\n",
    "    \"\"\" Dictonary to get the right Files\"\"\"\n",
    "    dict={}\n",
    "    for dirname,_, filenames in os.walk('/kaggle/input'):\n",
    "        for filename in filenames:\n",
    "            dict[filename[0:filename.find('.')]] = pd.read_csv(os.path.join(dirname, filename))\n",
    "    print('Path dictonary created!')\n",
    "    print('')\n",
    "    return dict"
   ]
  },
  {
   "cell_type": "code",
   "execution_count": 3,
   "id": "50582115",
   "metadata": {
    "execution": {
     "iopub.execute_input": "2021-08-30T10:26:04.908907Z",
     "iopub.status.busy": "2021-08-30T10:26:04.907836Z",
     "iopub.status.idle": "2021-08-30T10:26:04.910090Z",
     "shell.execute_reply": "2021-08-30T10:26:04.910584Z",
     "shell.execute_reply.started": "2021-08-28T16:35:31.968333Z"
    },
    "papermill": {
     "duration": 0.020779,
     "end_time": "2021-08-30T10:26:04.910741",
     "exception": false,
     "start_time": "2021-08-30T10:26:04.889962",
     "status": "completed"
    },
    "tags": []
   },
   "outputs": [],
   "source": [
    "def preprocess(dataset, mode):\n",
    "    \"\"\"\n",
    "    @param dataset: training or test\n",
    "    @param mode: define y and features of training/test dataset\n",
    "    @return Return either training data or the test data\n",
    "    \"\"\"\n",
    "    #Define the target and the features\n",
    "    if mode is \"train\":\n",
    "        y = dataset.target\n",
    "        features = dataset.columns[1:-1]\n",
    "    else:\n",
    "        features = dataset.columns[1:]\n",
    "    X = dataset[features]\n",
    "\n",
    "    #Check and handle categorical data with One-Hot-Encoder\n",
    "    s = (X.dtypes == 'object')\n",
    "    object_cols = list(s[s].index)\n",
    "    OH_encoder = OneHotEncoder(handle_unknown = 'ignore', sparse=False)\n",
    "    OH_cols_train = pd.DataFrame(OH_encoder.fit_transform(X[object_cols]))\n",
    "    OH_cols_train.index = X.index\n",
    "    num_X = X.drop(object_cols, axis=1)\n",
    "    label_X = pd.concat([num_X, OH_cols_train], axis=1)\n",
    "    \n",
    "    #Return the correct X and y data to train or test the model\n",
    "    if mode is \"train\":\n",
    "        train_X, val_X, train_y, val_y = train_test_split(label_X, y, random_state = 0, test_size = 0.2, shuffle = True)\n",
    "        return label_X, y, train_X, train_y, val_X, val_y\n",
    "    else:\n",
    "        return label_X, dataset"
   ]
  },
  {
   "cell_type": "code",
   "execution_count": 4,
   "id": "c736a796",
   "metadata": {
    "execution": {
     "iopub.execute_input": "2021-08-30T10:26:04.934206Z",
     "iopub.status.busy": "2021-08-30T10:26:04.933403Z",
     "iopub.status.idle": "2021-08-30T10:26:04.936424Z",
     "shell.execute_reply": "2021-08-30T10:26:04.935939Z",
     "shell.execute_reply.started": "2021-08-28T16:35:31.984563Z"
    },
    "papermill": {
     "duration": 0.016687,
     "end_time": "2021-08-30T10:26:04.936551",
     "exception": false,
     "start_time": "2021-08-30T10:26:04.919864",
     "status": "completed"
    },
    "tags": []
   },
   "outputs": [],
   "source": [
    "def submit(dataset, submit_prediction):\n",
    "    \"\"\"Submit the final prediction of the test data.\"\"\"\n",
    "    output = pd.DataFrame({'id': dataset.id,\n",
    "                       'target': submit_prediction})\n",
    "    output.to_csv('submission.csv', index=False)"
   ]
  },
  {
   "cell_type": "code",
   "execution_count": 5,
   "id": "7729adc4",
   "metadata": {
    "execution": {
     "iopub.execute_input": "2021-08-30T10:26:04.960247Z",
     "iopub.status.busy": "2021-08-30T10:26:04.959478Z",
     "iopub.status.idle": "2021-08-30T10:26:12.290161Z",
     "shell.execute_reply": "2021-08-30T10:26:12.289572Z",
     "shell.execute_reply.started": "2021-08-28T16:35:31.996943Z"
    },
    "papermill": {
     "duration": 7.344432,
     "end_time": "2021-08-30T10:26:12.290307",
     "exception": false,
     "start_time": "2021-08-30T10:26:04.945875",
     "status": "completed"
    },
    "tags": []
   },
   "outputs": [
    {
     "name": "stdout",
     "output_type": "stream",
     "text": [
      "Path dictonary created!\n",
      "\n"
     ]
    }
   ],
   "source": [
    "dict = getFiles()\n",
    "X, y, train_X, train_y, val_X, val_y = preprocess(dataset = dict['train'], mode = \"train\")\n",
    "test_X, testset = preprocess(dataset = dict['test'], mode = \"test\")"
   ]
  },
  {
   "cell_type": "code",
   "execution_count": 6,
   "id": "8a0e1246",
   "metadata": {
    "execution": {
     "iopub.execute_input": "2021-08-30T10:26:12.322259Z",
     "iopub.status.busy": "2021-08-30T10:26:12.321243Z",
     "iopub.status.idle": "2021-08-30T10:42:49.227201Z",
     "shell.execute_reply": "2021-08-30T10:42:49.227811Z",
     "shell.execute_reply.started": "2021-08-28T16:37:54.252363Z"
    },
    "papermill": {
     "duration": 996.92752,
     "end_time": "2021-08-30T10:42:49.228034",
     "exception": false,
     "start_time": "2021-08-30T10:26:12.300514",
     "status": "completed"
    },
    "tags": []
   },
   "outputs": [
    {
     "name": "stdout",
     "output_type": "stream",
     "text": [
      "Fitting 3 folds for each of 100 candidates, totalling 300 fits\n"
     ]
    },
    {
     "name": "stderr",
     "output_type": "stream",
     "text": [
      "[Parallel(n_jobs=-1)]: Using backend LokyBackend with 2 concurrent workers.\n",
      "[Parallel(n_jobs=-1)]: Done  46 tasks      | elapsed:  2.6min\n",
      "[Parallel(n_jobs=-1)]: Done 196 tasks      | elapsed: 10.6min\n",
      "[Parallel(n_jobs=-1)]: Done 300 out of 300 | elapsed: 16.5min finished\n"
     ]
    },
    {
     "name": "stdout",
     "output_type": "stream",
     "text": [
      "[0]\tvalidation_0-rmse:7.00472\n",
      "[100]\tvalidation_0-rmse:0.73225\n",
      "[200]\tvalidation_0-rmse:0.72810\n",
      "[300]\tvalidation_0-rmse:0.72598\n",
      "[400]\tvalidation_0-rmse:0.72445\n",
      "[500]\tvalidation_0-rmse:0.72348\n",
      "[600]\tvalidation_0-rmse:0.72281\n",
      "[700]\tvalidation_0-rmse:0.72224\n",
      "[800]\tvalidation_0-rmse:0.72198\n",
      "[803]\tvalidation_0-rmse:0.72199\n",
      "Train accuracy 0.710954369594449\n",
      "Test accuracy 0.72197617341784\n"
     ]
    }
   ],
   "source": [
    "model = XGBRegressor(random_state=42, tree_method='gpu_hist', gpu_id = 0)\n",
    "params = {'learning_rate': [0.1],\n",
    "         'n_estimators': [10000],\n",
    "         'max_depth': [1,2,3,4,5],\n",
    "         'subsample':[0.4, 0.6, 0.8, 1],\n",
    "         'min_child_weight': [3, 4, 5],\n",
    "         'reg_alpha':[0, 0.2, 0.4,  1],\n",
    "         'reg_lambda':[0,0.4, 0,0.6, 0.8,1],\n",
    "         'gamma': [0.5, 1, 1.2, 1.5, 1.8, 2],\n",
    "         'colsample_bytree': [0.6, 0.8, 1.0],\n",
    "          \"eta\": [0.01, 0.04, 0.07, 0.1, 0.15, 0.2, 0.3]\n",
    "         }\n",
    "\n",
    "random_search = RandomizedSearchCV(model, param_distributions=params, n_iter=100, cv=3, n_jobs= -1, verbose=1, scoring='neg_root_mean_squared_error')\n",
    "random_search.fit(train_X, train_y, early_stopping_rounds=10, eval_set=[(val_X, val_y)],verbose=100)\n",
    "\n",
    "print(\"Train accuracy\", random_search.score(train_X, train_y)*-1)\n",
    "print(\"Test accuracy\", random_search.score(val_X, val_y)*-1)"
   ]
  },
  {
   "cell_type": "code",
   "execution_count": 7,
   "id": "493f5f9b",
   "metadata": {
    "execution": {
     "iopub.execute_input": "2021-08-30T10:42:49.264302Z",
     "iopub.status.busy": "2021-08-30T10:42:49.263662Z",
     "iopub.status.idle": "2021-08-30T10:42:49.267064Z",
     "shell.execute_reply": "2021-08-30T10:42:49.267720Z",
     "shell.execute_reply.started": "2021-08-28T16:37:21.508298Z"
    },
    "papermill": {
     "duration": 0.023254,
     "end_time": "2021-08-30T10:42:49.267926",
     "exception": false,
     "start_time": "2021-08-30T10:42:49.244672",
     "status": "completed"
    },
    "tags": []
   },
   "outputs": [
    {
     "name": "stdout",
     "output_type": "stream",
     "text": [
      "{'subsample': 0.8, 'reg_lambda': 0, 'reg_alpha': 0, 'n_estimators': 10000, 'min_child_weight': 5, 'max_depth': 3, 'learning_rate': 0.1, 'gamma': 1.5, 'eta': 0.15, 'colsample_bytree': 0.8}\n"
     ]
    }
   ],
   "source": [
    "print(random_search.best_params_)"
   ]
  },
  {
   "cell_type": "code",
   "execution_count": 8,
   "id": "8be4f3be",
   "metadata": {
    "execution": {
     "iopub.execute_input": "2021-08-30T10:42:49.308602Z",
     "iopub.status.busy": "2021-08-30T10:42:49.307537Z",
     "iopub.status.idle": "2021-08-30T10:43:13.864936Z",
     "shell.execute_reply": "2021-08-30T10:43:13.864455Z",
     "shell.execute_reply.started": "2021-08-28T16:37:30.693615Z"
    },
    "papermill": {
     "duration": 24.581083,
     "end_time": "2021-08-30T10:43:13.865068",
     "exception": false,
     "start_time": "2021-08-30T10:42:49.283985",
     "status": "completed"
    },
    "tags": []
   },
   "outputs": [
    {
     "data": {
      "text/plain": [
       "XGBRegressor(base_score=0.5, booster='gbtree', colsample_bylevel=1,\n",
       "             colsample_bynode=1, colsample_bytree=0.8, eta=0.15, gamma=1.5,\n",
       "             gpu_id=0, importance_type='gain', interaction_constraints='',\n",
       "             learning_rate=0.1, max_delta_step=0, max_depth=3,\n",
       "             min_child_weight=5, missing=nan, monotone_constraints='()',\n",
       "             n_estimators=10000, n_jobs=2, num_parallel_tree=1, random_state=42,\n",
       "             reg_alpha=0, reg_lambda=0, scale_pos_weight=1, subsample=0.8,\n",
       "             tree_method='gpu_hist', validate_parameters=1, verbosity=None)"
      ]
     },
     "execution_count": 8,
     "metadata": {},
     "output_type": "execute_result"
    }
   ],
   "source": [
    "model2 = XGBRegressor(tree_method='gpu_hist', gpu_id = 0, random_state = 42, \n",
    "learning_rate=random_search.best_params_[\"learning_rate\"], \n",
    "n_estimators=random_search.best_params_[\"n_estimators\"],\n",
    "max_depth=random_search.best_params_[\"max_depth\"],\n",
    "subsample=random_search.best_params_[\"subsample\"],\n",
    "min_child_weight=random_search.best_params_[\"min_child_weight\"],\n",
    "reg_alpha=random_search.best_params_[\"reg_alpha\"],\n",
    "reg_lambda=random_search.best_params_[\"reg_lambda\"],\n",
    "gamma=random_search.best_params_[\"gamma\"],\n",
    "colsample_bytree=random_search.best_params_[\"colsample_bytree\"],\n",
    "eta=random_search.best_params_[\"eta\"])\n",
    "\n",
    "model2.fit(X, y)"
   ]
  },
  {
   "cell_type": "code",
   "execution_count": 9,
   "id": "381c5833",
   "metadata": {
    "execution": {
     "iopub.execute_input": "2021-08-30T10:43:13.900054Z",
     "iopub.status.busy": "2021-08-30T10:43:13.898977Z",
     "iopub.status.idle": "2021-08-30T10:43:21.729085Z",
     "shell.execute_reply": "2021-08-30T10:43:21.729994Z"
    },
    "papermill": {
     "duration": 7.850207,
     "end_time": "2021-08-30T10:43:21.730188",
     "exception": false,
     "start_time": "2021-08-30T10:43:13.879981",
     "status": "completed"
    },
    "tags": []
   },
   "outputs": [],
   "source": [
    "submit_prediction = model2.predict(test_X)"
   ]
  },
  {
   "cell_type": "code",
   "execution_count": 10,
   "id": "6b9be93b",
   "metadata": {
    "execution": {
     "iopub.execute_input": "2021-08-30T10:43:21.768621Z",
     "iopub.status.busy": "2021-08-30T10:43:21.767790Z",
     "iopub.status.idle": "2021-08-30T10:43:22.321469Z",
     "shell.execute_reply": "2021-08-30T10:43:22.320842Z"
    },
    "papermill": {
     "duration": 0.573907,
     "end_time": "2021-08-30T10:43:22.321615",
     "exception": false,
     "start_time": "2021-08-30T10:43:21.747708",
     "status": "completed"
    },
    "tags": []
   },
   "outputs": [],
   "source": [
    "submit(testset, submit_prediction)"
   ]
  }
 ],
 "metadata": {
  "kernelspec": {
   "display_name": "Python 3",
   "language": "python",
   "name": "python3"
  },
  "language_info": {
   "codemirror_mode": {
    "name": "ipython",
    "version": 3
   },
   "file_extension": ".py",
   "mimetype": "text/x-python",
   "name": "python",
   "nbconvert_exporter": "python",
   "pygments_lexer": "ipython3",
   "version": "3.7.10"
  },
  "papermill": {
   "default_parameters": {},
   "duration": 1047.982974,
   "end_time": "2021-08-30T10:43:24.338807",
   "environment_variables": {},
   "exception": null,
   "input_path": "__notebook__.ipynb",
   "output_path": "__notebook__.ipynb",
   "parameters": {},
   "start_time": "2021-08-30T10:25:56.355833",
   "version": "2.3.3"
  }
 },
 "nbformat": 4,
 "nbformat_minor": 5
}
